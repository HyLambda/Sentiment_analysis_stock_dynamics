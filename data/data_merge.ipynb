{
  "cells": [
    {
      "cell_type": "markdown",
      "metadata": {
        "id": "view-in-github",
        "colab_type": "text"
      },
      "source": [
        "<a href=\"https://colab.research.google.com/github/supriyouva/Stocks-prediction-using-ML/blob/main/data/data_merge.ipynb\" target=\"_parent\"><img src=\"https://colab.research.google.com/assets/colab-badge.svg\" alt=\"Open In Colab\"/></a>"
      ]
    },
    {
      "cell_type": "code",
      "execution_count": 1,
      "id": "273b3815",
      "metadata": {
        "id": "273b3815"
      },
      "outputs": [],
      "source": [
        "import pandas as pd\n"
      ]
    },
    {
      "cell_type": "code",
      "source": [],
      "metadata": {
        "id": "N6xsJk-Bm7-0"
      },
      "id": "N6xsJk-Bm7-0",
      "execution_count": null,
      "outputs": []
    },
    {
      "cell_type": "code",
      "execution_count": 4,
      "id": "f2bec116",
      "metadata": {
        "id": "f2bec116"
      },
      "outputs": [],
      "source": [
        "\n",
        "# Load the CSV files into pandas DataFrames\n",
        "df1 = pd.read_csv('https://raw.githubusercontent.com/supriyouva/Stocks-prediction-using-ML/main/data/BAC.csv')\n",
        "df2 = pd.read_csv('https://raw.githubusercontent.com/supriyouva/Stocks-prediction-using-ML/main/data/DIS.csv')\n",
        "df3 = pd.read_csv('https://raw.githubusercontent.com/supriyouva/Stocks-prediction-using-ML/main/data/XOM.csv')\n",
        "df4 = pd.read_csv('https://raw.githubusercontent.com/supriyouva/Stocks-prediction-using-ML/main/data/MA.csv')\n",
        "dfs=[df1, df2, df3, df4]\n",
        "# Merge the DataFrames based on the common column\n",
        "merged_df = pd.concat(dfs, ignore_index=True)\n",
        "\n",
        "# Save the merged DataFrame to a new CSV file\n",
        "merged_df.to_csv('merged_file_supriyo.csv', index=False)\n"
      ]
    },
    {
      "cell_type": "code",
      "execution_count": null,
      "id": "bb97ed15",
      "metadata": {
        "id": "bb97ed15"
      },
      "outputs": [],
      "source": [
        "\n",
        "# Load the CSV files into pandas DataFrames\n",
        "df1 = pd.read_csv('file1.csv')\n",
        "df2 = pd.read_csv('file2.csv')\n",
        "\n",
        "# Merge the DataFrames based on the key column\n",
        "merged_df = pd.merge(df1, df2, left_on='key_column_df1', right_on='key_column_df2', how='inner')\n",
        "\n",
        "# Save the merged DataFrame to a new CSV file\n",
        "merged_df.to_csv('merged_file.csv', index=False)\n"
      ]
    }
  ],
  "metadata": {
    "kernelspec": {
      "display_name": "Python 3 (ipykernel)",
      "language": "python",
      "name": "python3"
    },
    "language_info": {
      "codemirror_mode": {
        "name": "ipython",
        "version": 3
      },
      "file_extension": ".py",
      "mimetype": "text/x-python",
      "name": "python",
      "nbconvert_exporter": "python",
      "pygments_lexer": "ipython3",
      "version": "3.8.14"
    },
    "colab": {
      "provenance": [],
      "include_colab_link": true
    }
  },
  "nbformat": 4,
  "nbformat_minor": 5
}