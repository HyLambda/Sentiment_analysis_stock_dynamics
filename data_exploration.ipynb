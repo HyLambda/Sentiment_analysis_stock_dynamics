{
 "cells": [
  {
   "cell_type": "code",
   "execution_count": null,
   "id": "79e24b44",
   "metadata": {},
   "outputs": [],
   "source": [
    "import pandas as pd\n",
    "import matplotlib.pyplot as plt\n"
   ]
  },
  {
   "cell_type": "code",
   "execution_count": null,
   "id": "8fcf27dc",
   "metadata": {},
   "outputs": [],
   "source": [
    "df =pd.read_csv(io.StringIO(s.decode('utf-8')))\n",
    "# show first couple rows\n",
    "\n",
    "df.head()\n",
    "\n",
    "#plot traded volumes over time\n",
    "plt.figure(figsize=(12, 6))\n",
    "plt.plot(df.index, df['Volume'], label='Traded Volume')\n",
    "plt.title('Traded Volumes Over Time')\n",
    "plt.xlabel('Date')\n",
    "plt.ylabel('Volume')\n",
    "plt.legend()\n",
    "plt.show()"
   ]
  }
 ],
 "metadata": {
  "kernelspec": {
   "display_name": "Python 3 (ipykernel)",
   "language": "python",
   "name": "python3"
  },
  "language_info": {
   "codemirror_mode": {
    "name": "ipython",
    "version": 3
   },
   "file_extension": ".py",
   "mimetype": "text/x-python",
   "name": "python",
   "nbconvert_exporter": "python",
   "pygments_lexer": "ipython3",
   "version": "3.8.14"
  }
 },
 "nbformat": 4,
 "nbformat_minor": 5
}
